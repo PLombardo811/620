{
 "cells": [
  {
   "cell_type": "code",
   "execution_count": 1,
   "metadata": {},
   "outputs": [],
   "source": [
    "import os\n",
    "import re\n",
    "import nltk\n",
    "from nltk.classify import apply_features\n",
    "from nltk.corpus import PlaintextCorpusReader\n",
    "from nltk.corpus import stopwords\n",
    "import random\n",
    "import pandas as pd\n",
    "import string\n",
    "from textblob import TextBlob\n",
    "import collections\n",
    "import matplotlib.pyplot as plt"
   ]
  },
  {
   "cell_type": "code",
   "execution_count": 32,
   "metadata": {
    "scrolled": true
   },
   "outputs": [],
   "source": [
    "url = 'https://raw.githubusercontent.com/PLombardo811/620/Week5_2/spam.csv'\n",
    "df_spam_ham= pd.read_csv(url, sep=',', engine='python')\n",
    "df_spam_ham =  df_spam_ham[['v1', 'v2']].copy()\n",
    "df_spam_ham = df_spam_ham.rename(columns={\"v1\":\"type\",\"v2\": \"text\"})"
   ]
  },
  {
   "cell_type": "code",
   "execution_count": 33,
   "metadata": {},
   "outputs": [],
   "source": [
    "df_spam_ham['text'] = df_spam_ham['text'].apply(lambda x: \" \".join(x.lower() for x in x.split()))\n",
    "df_spam_ham['text'] = df_spam_ham['text'].str.replace('[^\\w\\s]','')"
   ]
  },
  {
   "cell_type": "code",
   "execution_count": 4,
   "metadata": {},
   "outputs": [],
   "source": [
    "df_spam = df_spam_ham.loc[df_spam_ham['type'] == 'spam']\n",
    "df_ham = df_spam_ham.loc[df_spam_ham['type'] == 'ham']"
   ]
  },
  {
   "cell_type": "code",
   "execution_count": 5,
   "metadata": {},
   "outputs": [
    {
     "name": "stdout",
     "output_type": "stream",
     "text": [
      "[nltk_data] Downloading package stopwords to\n",
      "[nltk_data]     C:\\Users\\Peter\\AppData\\Roaming\\nltk_data...\n",
      "[nltk_data]   Package stopwords is already up-to-date!\n"
     ]
    }
   ],
   "source": [
    "import nltk\n",
    "nltk.download('stopwords')\n",
    "stop = stopwords.words('english')"
   ]
  },
  {
   "cell_type": "code",
   "execution_count": 6,
   "metadata": {},
   "outputs": [
    {
     "name": "stderr",
     "output_type": "stream",
     "text": [
      "C:\\Users\\Peter\\Anaconda3\\lib\\site-packages\\ipykernel_launcher.py:1: SettingWithCopyWarning: \n",
      "A value is trying to be set on a copy of a slice from a DataFrame.\n",
      "Try using .loc[row_indexer,col_indexer] = value instead\n",
      "\n",
      "See the caveats in the documentation: http://pandas.pydata.org/pandas-docs/stable/indexing.html#indexing-view-versus-copy\n",
      "  \"\"\"Entry point for launching an IPython kernel.\n",
      "C:\\Users\\Peter\\Anaconda3\\lib\\site-packages\\ipykernel_launcher.py:2: SettingWithCopyWarning: \n",
      "A value is trying to be set on a copy of a slice from a DataFrame.\n",
      "Try using .loc[row_indexer,col_indexer] = value instead\n",
      "\n",
      "See the caveats in the documentation: http://pandas.pydata.org/pandas-docs/stable/indexing.html#indexing-view-versus-copy\n",
      "  \n"
     ]
    },
    {
     "data": {
      "text/plain": [
       "2     free entry 2 wily come win a cup final this mu...\n",
       "5     freemen hey darling 3 weeks word back id like ...\n",
       "8     winner valued network customer selected receiv...\n",
       "9     mobile 11 months u r entitled update latest co...\n",
       "11    six chances win cash 100 20000 pounds txt csh1...\n",
       "Name: text, dtype: object"
      ]
     },
     "execution_count": 6,
     "metadata": {},
     "output_type": "execute_result"
    }
   ],
   "source": [
    "df_spam['text'] = df_spam['text'].apply(lambda x: \" \".join(x for x in x.split() if x not in stop))\n",
    "df_ham['text'] = df_ham['text'].apply(lambda x: \" \".join(x for x in x.split() if x not in stop))\n",
    "df_ham['text'][:5].apply(lambda x: str(TextBlob(x).correct()))\n",
    "df_spam['text'][:5].apply(lambda x: str(TextBlob(x).correct()))"
   ]
  },
  {
   "cell_type": "code",
   "execution_count": 7,
   "metadata": {},
   "outputs": [],
   "source": [
    "freq_s = pd.Series(' '.join(df_spam['text']).split()).value_counts()[:10]\n",
    "freq_h = pd.Series(' '.join(df_ham['text']).split()).value_counts()[:10]\n",
    "freq_h = list(freq_h.index)\n",
    "freq_s = list(freq_s.index)"
   ]
  },
  {
   "cell_type": "code",
   "execution_count": 8,
   "metadata": {},
   "outputs": [
    {
     "name": "stderr",
     "output_type": "stream",
     "text": [
      "C:\\Users\\Peter\\Anaconda3\\lib\\site-packages\\ipykernel_launcher.py:1: SettingWithCopyWarning: \n",
      "A value is trying to be set on a copy of a slice from a DataFrame.\n",
      "Try using .loc[row_indexer,col_indexer] = value instead\n",
      "\n",
      "See the caveats in the documentation: http://pandas.pydata.org/pandas-docs/stable/indexing.html#indexing-view-versus-copy\n",
      "  \"\"\"Entry point for launching an IPython kernel.\n",
      "C:\\Users\\Peter\\Anaconda3\\lib\\site-packages\\ipykernel_launcher.py:2: SettingWithCopyWarning: \n",
      "A value is trying to be set on a copy of a slice from a DataFrame.\n",
      "Try using .loc[row_indexer,col_indexer] = value instead\n",
      "\n",
      "See the caveats in the documentation: http://pandas.pydata.org/pandas-docs/stable/indexing.html#indexing-view-versus-copy\n",
      "  \n"
     ]
    }
   ],
   "source": [
    "df_spam['text'] = df_spam['text'].apply(lambda x: \" \".join(x for x in x.split() if x not in freq_s))\n",
    "df_ham['text'] = df_ham['text'].apply(lambda x: \" \".join(x for x in x.split() if x not in freq_h))"
   ]
  },
  {
   "cell_type": "code",
   "execution_count": 9,
   "metadata": {},
   "outputs": [],
   "source": [
    "df_spam_list = df_spam['text'].tolist()\n",
    "df_spam_string = ''.join(df_spam_list)\n",
    "df_spam_string.split(df_spam_string)\n",
    "df_spam_tokens = nltk.word_tokenize(df_spam_string)\n",
    "df_spam_text = nltk.Text(df_spam_tokens)"
   ]
  },
  {
   "cell_type": "code",
   "execution_count": 10,
   "metadata": {},
   "outputs": [],
   "source": [
    "df_ham_list = df_ham['text'].tolist()\n",
    "df_ham_string = ''.join(df_ham_list)\n",
    "df_ham_string.split(df_ham_string)\n",
    "df_ham_tokens = nltk.word_tokenize(df_ham_string)\n",
    "df_ham_text = nltk.Text(df_ham_tokens)"
   ]
  },
  {
   "cell_type": "code",
   "execution_count": 11,
   "metadata": {},
   "outputs": [],
   "source": [
    "df_spam_ham_list = df_spam_ham['text'].tolist()"
   ]
  },
  {
   "cell_type": "code",
   "execution_count": 25,
   "metadata": {
    "scrolled": true
   },
   "outputs": [],
   "source": [
    "def spam_id():\n",
    " spam = []\n",
    " for i in df_spam_ham_list:\n",
    "    if df_spam_list in df_spam_ham_list:\n",
    "        spam.append('spam')\n",
    "    else:\n",
    "        spam.append('ham')\n",
    " return(spam)\n",
    "\n",
    "spam = spam_id()"
   ]
  },
  {
   "cell_type": "code",
   "execution_count": 26,
   "metadata": {},
   "outputs": [],
   "source": [
    "df_spam_ham['final'] = spam\n"
   ]
  },
  {
   "cell_type": "code",
   "execution_count": 30,
   "metadata": {
    "scrolled": true
   },
   "outputs": [],
   "source": [
    "df_spam_ham"
   ]
  }
 ],
 "metadata": {
  "kernelspec": {
   "display_name": "Python 3",
   "language": "python",
   "name": "python3"
  },
  "language_info": {
   "codemirror_mode": {
    "name": "ipython",
    "version": 3
   },
   "file_extension": ".py",
   "mimetype": "text/x-python",
   "name": "python",
   "nbconvert_exporter": "python",
   "pygments_lexer": "ipython3",
   "version": "3.6.5"
  }
 },
 "nbformat": 4,
 "nbformat_minor": 2
}
