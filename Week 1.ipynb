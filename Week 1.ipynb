{
 "cells": [
  {
   "cell_type": "code",
   "execution_count": 21,
   "metadata": {
    "collapsed": false
   },
   "outputs": [],
   "source": [
    "import networkx as nx\n",
    "import numpy as np\n",
    "import matplotlib.pyplot as plt"
   ]
  },
  {
   "cell_type": "code",
   "execution_count": 22,
   "metadata": {
    "collapsed": false
   },
   "outputs": [],
   "source": [
    "G = nx.Graph()"
   ]
  },
  {
   "cell_type": "code",
   "execution_count": 23,
   "metadata": {
    "collapsed": false
   },
   "outputs": [],
   "source": [
    "G.add_node(\"Main Hub\",pos=(2, 2))\n",
    "G.add_node(\"Satellite A\",pos=(1, 1))\n",
    "G.add_node(\"Satellite B\", pos=(1, 3))\n",
    "G.add_node(\"Satellite C\", pos=(2, 4))\n",
    "G.add_node(\"Satellite D\", pos=(3, 3))\n",
    "G.add_node(\"Satellite E\", pos=(3, 1))\n",
    "\n",
    "G.add_edges_from(\n",
    "    [('Satellite A', 'Satellite B'), ('Satellite B', 'Satellite C'), \n",
    "     ('Satellite C', 'Satellite D'), ('Satellite D', 'Satellite E'),\n",
    "     ('Satellite E', 'Satellite A'), ('Main Hub', 'Satellite A'), \n",
    "     ('Main Hub', 'Satellite B'), ('Main Hub', 'Satellite C'), \n",
    "     ('Main Hub', 'Satellite D'),('Main Hub', 'Satellite E')])\n",
    "\n",
    "offset =0.2\n",
    "pos=nx.get_node_attributes(G,'pos')\n",
    "pos\n",
    "{\"Main Hub\": (2, 2), \"Satellite A\": (1, 1), \"Satellite B\":(1,3), \"Satellite C\":(2,4),\n",
    "\"Satellite D\":(3,3),\"Satellite E\":(3,1) }\n",
    "\n",
    "pos_labels = {}\n",
    "keys = pos.keys()\n",
    "for key in keys:\n",
    "    x, y = pos[key]\n",
    "    pos_labels[key] = (x, y+offset)\n",
    "nx.draw_networkx_labels(G,pos=pos_labels, font_color='Blue')\n",
    "nx.draw_networkx_edges(G, pos)\n",
    "nx.draw(G,pos)\n",
    "plt.show()"
   ]
  },
  {
   "cell_type": "code",
   "execution_count": null,
   "metadata": {
    "collapsed": true
   },
   "outputs": [],
   "source": []
  }
 ],
 "metadata": {
  "kernelspec": {
   "display_name": "Python 2",
   "language": "python",
   "name": "python2"
  },
  "language_info": {
   "codemirror_mode": {
    "name": "ipython",
    "version": 2
   },
   "file_extension": ".py",
   "mimetype": "text/x-python",
   "name": "python",
   "nbconvert_exporter": "python",
   "pygments_lexer": "ipython2",
   "version": "2.7.13"
  }
 },
 "nbformat": 4,
 "nbformat_minor": 0
}
